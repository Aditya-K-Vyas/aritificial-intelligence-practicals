{
 "cells": [
  {
   "cell_type": "code",
   "execution_count": 7,
   "metadata": {},
   "outputs": [],
   "source": [
    "import numpy as np\n",
    "import pandas as pd\n",
    "\n",
    "import bqplot.pyplot as bplt\n",
    "import ipywidgets as widgets\n",
    "\n",
    "import time\n",
    "\n",
    "pd.set_option(\"display.max_columns\", 50)"
   ]
  },
  {
   "cell_type": "code",
   "execution_count": 8,
   "metadata": {},
   "outputs": [],
   "source": [
    "from collections import defaultdict\n",
    "from matplotlib import pyplot as plt\n",
    "\n",
    "\n",
    "class TwoJarProblem:\n",
    "    capacity1 = 0\n",
    "    capacity2 = 0\n",
    "    target = 0\n",
    "    visitedDic = defaultdict(lambda: False)\n",
    "    renderList = []\n",
    "    waterLevel1 = []\n",
    "    waterLevel2 = []\n",
    "\n",
    "    def __init__(self, capacity1, capacity2, target):\n",
    "        self.capacity1 = capacity1\n",
    "        self.capacity2 = capacity2\n",
    "        self.target = target\n",
    "        self.solve(capacity1, capacity2)\n",
    "        self.display()\n",
    "\n",
    "    #         x,y\n",
    "    # initially assume x = capacity1 and y = capacity2\n",
    "\n",
    "    '''\n",
    "        c1 = 3, c2 = 4 , t = 2\n",
    "          initially x = c1, initially x2 = c2\n",
    "          \n",
    "          (3,4)  (3,0) (0,3) (3,3) (4,2)\n",
    "          \n",
    "          (0,4)\n",
    "          (3,1)\n",
    "          \n",
    "          \n",
    "    '''\n",
    "\n",
    "    # def render_diplay(self,y1,y2):\n",
    "    #     plt.bar([\" jug1\", \" jug2\"], [y1, y2])\n",
    "    #     plt.show()\n",
    "\n",
    "    def display(self):\n",
    "\n",
    "        return self.renderList\n",
    "        # print(self.renderList)\n",
    "        # for i,j in self.renderList:\n",
    "        #     self.render_diplay(i,j)\n",
    "\n",
    "    def solve(self, x, y):\n",
    "        if (x == self.target) or y == self.target:\n",
    "            self.renderList.append((x, y))\n",
    "            self.waterLevel1.append(x)\n",
    "            self.waterLevel2.append(y)\n",
    "            return True\n",
    "\n",
    "        else:\n",
    "            if self.visitedDic[(x, y)] == False:\n",
    "                self.waterLevel1.append(x)\n",
    "                self.waterLevel2.append(y)\n",
    "                self.renderList.append((x, y))\n",
    "                self.visitedDic[(x, y)] = True\n",
    "\n",
    "                return (self.solve(0, y) or\n",
    "                        self.solve(x, 0) or\n",
    "                        self.solve(self.capacity1, y) or\n",
    "                        self.solve(x, self.capacity2) or\n",
    "\n",
    "                        self.solve(x + min(y, (self.capacity1 - x)),\n",
    "                                   y - min(y, (self.capacity1 - x))) or\n",
    "                        self.solve(x - min(x, (self.capacity2 - y)),\n",
    "                                   y + min(x, (self.capacity2 - y))))\n",
    "            else:\n",
    "                return False\n",
    "\n",
    "j1, j2, target = (3, 4, 2)\n",
    "jar = TwoJarProblem(j1, j2, target)"
   ]
  },
  {
   "cell_type": "code",
   "execution_count": 9,
   "metadata": {},
   "outputs": [
    {
     "data": {
      "application/vnd.jupyter.widget-view+json": {
       "model_id": "e05141c73de04e2cb36bf12e36d2e690",
       "version_major": 2,
       "version_minor": 0
      },
      "text/plain": [
       "VBox(children=(Figure(animation_duration=1000, axes=[Axis(label='X', scale=LinearScale()), Axis(label='Y', ori…"
      ]
     },
     "execution_count": 9,
     "metadata": {},
     "output_type": "execute_result"
    }
   ],
   "source": [
    "# Chart Creation Logic\n",
    "# heights = [10, 20, 30, 40, 50, 60, 70]\n",
    "heights = [(x * 10, y * 10) for (x, y) in jar.display()]\n",
    "\n",
    "fig = bplt.figure(animation_duration=1000,\n",
    "                  title=\"Water Jug Problem\",\n",
    "                  fig_margin={'top':50, 'bottom':50, 'left':150, 'right':150},\n",
    "                  background_style={'fill':\"lightgray\"})\n",
    "\n",
    "bar = bplt.bar(x=[1,2],y=heights)\n",
    "bar.y = (0, 0)\n",
    "\n",
    "bplt.xlabel(\"X\")\n",
    "bplt.ylabel(\"Y\")\n",
    "\n",
    "bplt.ylim(0,75);\n",
    "\n",
    "# Callback to Update Chart\n",
    "def update_bar_chart(btn):\n",
    "    for i in heights:\n",
    "        # idx = np.random.choice(np.arange(len(colors))) # Choose random color\n",
    "        # np.random.shuffle(heights) # Shuffle heights\n",
    "        with bar.hold_sync(): # updating scatter data\n",
    "            bar.y = i\n",
    "            # bar.colors = [colors[idx]]\n",
    "        time.sleep(3)\n",
    "\n",
    "btn = widgets.Button(description=\"Start Anime\", icon=\"play\")\n",
    "\n",
    "btn.on_click(update_bar_chart)\n",
    "\n",
    "widgets.VBox([fig, btn])"
   ]
  }
 ],
 "metadata": {
  "kernelspec": {
   "display_name": "Python 3",
   "language": "python",
   "name": "python3"
  },
  "language_info": {
   "codemirror_mode": {
    "name": "ipython",
    "version": 3
   },
   "file_extension": ".py",
   "mimetype": "text/x-python",
   "name": "python",
   "nbconvert_exporter": "python",
   "pygments_lexer": "ipython3",
   "version": "3.11.1"
  },
  "orig_nbformat": 4,
  "vscode": {
   "interpreter": {
    "hash": "e7370f93d1d0cde622a1f8e1c04877d8463912d04d973331ad4851f04de6915a"
   }
  }
 },
 "nbformat": 4,
 "nbformat_minor": 2
}
